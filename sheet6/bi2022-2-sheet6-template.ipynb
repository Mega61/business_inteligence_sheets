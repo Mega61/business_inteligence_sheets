{
 "cells": [
  {
   "cell_type": "code",
   "execution_count": null,
   "metadata": {},
   "outputs": [],
   "source": [
    "import numpy as np\n",
    "import pandas as pd\n",
    "from representatives import kMeans # you can use this kMeans in Ex. 3\n"
   ]
  },
  {
   "cell_type": "markdown",
   "metadata": {},
   "source": [
    "# Exercise 1"
   ]
  },
  {
   "cell_type": "code",
   "execution_count": null,
   "metadata": {
    "scrolled": false
   },
   "outputs": [],
   "source": [
    "from sklearn.decomposition import PCA\n",
    "\n",
    "'''\n",
    "  Tries to make clustering c2 equal to clustering c1 by renaming the cluster names.\n",
    "  If the clusterings are effectively equivalent, the output will be equal to c1.\n",
    "'''\n",
    "def try_unification(c1, c2):\n",
    "    v1 = list(np.unique(c1))\n",
    "    v2 = list(np.unique(c2))\n",
    "    new_vals = []\n",
    "    if len(c1) != len(c2):\n",
    "        print(\"Cannot unify clusterings of different lengths!\")\n",
    "        return None\n",
    "    if len(v1) != len(v2):\n",
    "        print(\"Cannot unify clusterings of different numbers of clusters!\")\n",
    "        return None\n",
    "    \n",
    "    \n",
    "    # use different symbols for clusterings\n",
    "    i = 0\n",
    "    for v in v2:\n",
    "        c = \"v\" + str(i)\n",
    "        while c in v1:\n",
    "            i +=1\n",
    "            c = \"v\" + str(i)\n",
    "        new_vals.append(c)\n",
    "        i += 1\n",
    "    c_new = [new_vals[v2.index(i)] for i in c2]\n",
    "    \n",
    "    # replace occurrences\n",
    "    targets = []\n",
    "    for symbol in new_vals:\n",
    "        first_index = c_new.index(symbol)\n",
    "        replace_symbol = None\n",
    "        for v in c1:\n",
    "            if not v in targets:\n",
    "                replace_symbol = v\n",
    "                break\n",
    "        if replace_symbol in targets:\n",
    "            print(\"Warning: No unification possible, the symbol \" + replace_symbol + \" has already been addressed before!\")\n",
    "            return None\n",
    "        \n",
    "        c_new = [replace_symbol if v == symbol else v for v in c_new]\n",
    "        targets.append(replace_symbol)\n",
    "    return c_new\n",
    "\n",
    "# Test Complete Link on Iris (PCA)\n",
    "dfIris = pd.read_csv(\"iris.csv\")\n",
    "DIris = PCA(n_components=2).fit_transform(dfIris.values[:,:4])\n",
    "labelsIris = list(pd.unique(dfIris[\"species\"]))\n",
    "C_perfect = np.array([labelsIris.index(l) for l in dfIris[\"species\"]])\n",
    "C_iris = np.array(try_unification(C_perfect, agglomerativeClustering(DIris, completeLink, k=3)))\n",
    "M_expected = np.array([[50, 0, 0], [0, 14, 49], [0, 36, 1]]) # according to slide 13\n",
    "for i in range(3):\n",
    "    cond1 = C_iris == i\n",
    "    for j in range(3):\n",
    "        cond2 = C_perfect == j\n",
    "        cnt_combo = np.count_nonzero(cond1 & cond2)\n",
    "        print(labelsIris[i] + \"/\" + labelsIris[j] + \": \" + (\"OK\" if cnt_combo == M_expected[i,j] else \"FAILED. Expected \" + str(M_expected[i,j]) + \" but saw \" + str(cnt_combo)))\n",
    "\n",
    "# Test Coincidence of Standard and Lance-Williams\n",
    "for D in [DIris, pd.get_dummies(pd.read_csv(\"Mall_Customers.csv\")).values]:\n",
    "    for pair in [(\"single\", singleLink), (\"complete\", completeLink), (\"groupavg\", groupAverage), (\"meandist\", meanDistance), (\"ward\", ward)]:\n",
    "        C_ac = np.array(agglomerativeClustering(D, pair[1], k=3))\n",
    "        C_aclw = np.array(try_unification(C_ac, agglomerativeClusteringLW(D, pair[0], k=3)))\n",
    "        mismatches = C_ac != C_aclw\n",
    "        print(pair[0] + (\" OK\" if np.count_nonzero(mismatches) == 0 else (\" FAILED. Difference in positions: \" + str(np.where(mismatches)[0]) + \": \" + str(C_ac[mismatches]) + \" vs \" + str(C_aclw[mismatches]))))"
   ]
  }
 ],
 "metadata": {
  "kernelspec": {
   "display_name": "Python 3.10.5 64-bit",
   "language": "python",
   "name": "python3"
  },
  "language_info": {
   "codemirror_mode": {
    "name": "ipython",
    "version": 3
   },
   "file_extension": ".py",
   "mimetype": "text/x-python",
   "name": "python",
   "nbconvert_exporter": "python",
   "pygments_lexer": "ipython3",
   "version": "3.10.5"
  },
  "vscode": {
   "interpreter": {
    "hash": "56d6b7505314121711e9f0b42f9bc62740a6380b1f361bd988b93b9c1b16c56f"
   }
  }
 },
 "nbformat": 4,
 "nbformat_minor": 4
}
