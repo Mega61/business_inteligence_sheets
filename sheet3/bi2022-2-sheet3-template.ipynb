{
 "cells": [
  {
   "cell_type": "code",
   "execution_count": null,
   "metadata": {},
   "outputs": [],
   "source": [
    "import numpy as np\n",
    "import pandas as pd\n",
    "import numbers"
   ]
  },
  {
   "cell_type": "markdown",
   "metadata": {},
   "source": [
    "# Exercise 2"
   ]
  },
  {
   "cell_type": "code",
   "execution_count": null,
   "metadata": {},
   "outputs": [],
   "source": [
    "# UNIT TEST normalize AND standardize\n",
    "import warnings\n",
    "dfIrisTest = pd.read_csv(\"https://raw.githubusercontent.com/uiuc-cse/data-fa14/gh-pages/data/iris.csv\")\n",
    "AIris = dfIrisTest.values[:,0:4].astype(float)\n",
    "\n",
    "def testNormalizationAndStandardization(A):\n",
    "    n = normalize(A)\n",
    "    if type(n) != np.ndarray or n.shape != A.shape:\n",
    "        warnings.warn(\"Normalized data should be a matrix of the same shape as the input.\")\n",
    "        return\n",
    "    print(\"min after normalization: \" + (\"OK\" if all(np.isclose(np.min(n, axis=0), np.zeros(4))) else \"FAIL\"))\n",
    "    print(\"max after normalization: \" + (\"OK\" if all(np.isclose(np.max(n, axis=0), np.ones(4))) else \"FAIL\"))\n",
    "\n",
    "    s = standardize(A)\n",
    "    if type(s) != np.ndarray or s.shape != A.shape:\n",
    "        warnings.warn(\"Normalized data should be a matrix of the same shape as the input.\")\n",
    "        return\n",
    "    mean, covariances, correlations = getStats(s)\n",
    "    print(\"mean after standardization: \" + (\"OK\" if all(np.isclose(mean, np.zeros(4))) else \"FAIL\"))\n",
    "    print(\"stds after standardization: \" + (\"OK\" if all(np.isclose(np.diag(covariances), np.ones(4))) else \"FAIL\"))\n",
    "\n",
    "testNormalizationAndStandardization(AIris)"
   ]
  },
  {
   "cell_type": "markdown",
   "metadata": {},
   "source": [
    "# Exercise 3.1"
   ]
  },
  {
   "cell_type": "code",
   "execution_count": null,
   "metadata": {},
   "outputs": [],
   "source": [
    "def check_column_conversion(column):\n",
    "    M = binarizeCategoricalAttributeVector(column)\n",
    "    vals = list(np.unique(M))\n",
    "    sorted(vals)\n",
    "    print(\"-----------------\\nBinarization check\\n-----------------\")\n",
    "    print(\"Dimension check: \" + (\"OK\" if M.shape == (len(column), len(np.unique(column))) else \"FAIL\"))\n",
    "    print(\"Occurring values: \" + (\"OK\" if vals == [0, 1] else \"FAIL (there should only be 0s and 1s in the output.)\"))\n",
    "    print(\"Coherence: \" + (\"OK\" if all(np.sum(M, axis=1) == np.ones(len(column))) else \"FAIL (all rows must sum up to 1)\"))\n",
    "\n",
    "def check_category_detection(df, expectedcols):\n",
    "    print(\"-----------------\\nCheck of category detection\\n-----------------\")\n",
    "    act = getCategoricalAttributes(df)\n",
    "    missing = [c for c in expectedcols if not c in act]\n",
    "    unexpected = [c for c in act if not c in expectedcols]\n",
    "    print(\"Categorical attribute detection: \" + (\"OK\" if len(missing) + len(unexpected) == 0 else \"FAIL (undetected columns: \" + str(missing) + \", wrongly detected columns: \" + str(unexpected) + \")\"))\n",
    "    \n",
    "def check_frame_conversion(df, num_expected_columns):\n",
    "    print(\"-----------------\\nConversion check for data frames\\n-----------------\")\n",
    "    A = readFrameAsMatrix(df)\n",
    "    print(\"Outer Type check: \" + (\"OK\" if type(A) == np.ndarray else \"FAIL (not a numpy array but \" + str(type(A)) + \")\"))\n",
    "    print(\"Inner Type check: \" + (\"OK\" if A.dtype in [float, np.float32, np.float64] else \"FAIL (dtype of matrix should be something numeric like float and not \" + str(A.dtype) + \")\"))\n",
    "    print(\"Dimensionality check: \" + (\"OK\" if len(A) == len(df) and A.shape[1] == num_expected_columns else \"FAIL (expected shape \" + str(len(df)) + \" x \" + str(num_expected_columns) + \", but observed shape \" + str(len(A)) + \" x \" + str(A.shape[1]) + \")\"))\n",
    "\n",
    "\n",
    "## unit test for conversion functions\n",
    "dfCreditTest = pd.read_csv(\"credits.csv\")\n",
    "check_column_conversion(dfCreditTest.values[:,1])\n",
    "check_category_detection(dfCreditTest, ['workclass', 'education', 'marital-status', 'occupation', 'relationship', 'race', 'sex', 'native-country', 'class'])\n",
    "check_frame_conversion(dfCreditTest, 110)"
   ]
  },
  {
   "cell_type": "markdown",
   "metadata": {},
   "source": [
    "# Exercise 3.2"
   ]
  },
  {
   "cell_type": "code",
   "execution_count": null,
   "metadata": {},
   "outputs": [],
   "source": [
    "def test_discretization(column, thresholds, names, expected):\n",
    "    conv = discretizeBasedOnThresholds(column, thresholds, names)\n",
    "    print(\"Conversion test: \" + (\"OK\" if len(conv) == len(expected) and all(conv == expected) else \"FAIL (expected \\\"\" + str(expected) +\"\\\" but observed \\\"\" + str(conv) + \"\\\")\"))\n",
    "    \n",
    "def test_equal_length_discretization(arr, k, expected):\n",
    "    act = discretizeEqualLength(arr, k)\n",
    "    print (\"Equal Length Discretization: \" + (\"OK\" if all(act == expected) else \"FAIL\"))\n",
    "    \n",
    "def test_equal_count_discretization(arr, k, expected):\n",
    "    act = discretizeEqualFrequency(arr, k)\n",
    "    print (\"Equal Count Discretization: \" + (\"OK\" if all(act == expected) else \"FAIL\"))\n",
    "\n",
    "# reproduce results from the lecture\n",
    "dfIrisTest = pd.read_csv(\"https://raw.githubusercontent.com/uiuc-cse/data-fa14/gh-pages/data/iris.csv\")\n",
    "test_discretization(dfIris.values[:,0], [5.2, 6.1, 7], [\"very short\", \"short\", \"long\", \"very long\"], [\"very short\", \"very short\", \"very short\", \"very short\", \"very short\", \"short\", \"very short\", \"very short\", \"very short\", \"very short\", \"short\", \"very short\", \"very short\", \"very short\", \"short\", \"short\", \"short\", \"very short\", \"short\", \"very short\", \"short\", \"very short\", \"very short\", \"very short\", \"very short\", \"very short\", \"very short\", \"very short\", \"very short\", \"very short\", \"very short\", \"short\", \"very short\", \"short\", \"very short\", \"very short\", \"short\", \"very short\", \"very short\", \"very short\", \"very short\", \"very short\", \"very short\", \"very short\", \"very short\", \"very short\", \"very short\", \"very short\", \"short\", \"very short\", \"long\", \"long\", \"long\", \"short\", \"long\", \"short\", \"long\", \"very short\", \"long\", \"very short\", \"very short\", \"short\", \"short\", \"short\", \"short\", \"long\", \"short\", \"short\", \"long\", \"short\", \"short\", \"short\", \"long\", \"short\", \"long\", \"long\", \"long\", \"long\", \"short\", \"short\", \"short\", \"short\", \"short\", \"short\", \"short\", \"short\", \"long\", \"long\", \"short\", \"short\", \"short\", \"short\", \"short\", \"very short\", \"short\", \"short\", \"short\", \"long\", \"very short\", \"short\", \"long\", \"short\", \"very long\", \"long\", \"long\", \"very long\", \"very short\", \"very long\", \"long\", \"very long\", \"long\", \"long\", \"long\", \"short\", \"short\", \"long\", \"long\", \"very long\", \"very long\", \"short\", \"long\", \"short\", \"very long\", \"long\", \"long\", \"very long\", \"long\", \"short\", \"long\", \"very long\", \"very long\", \"very long\", \"long\", \"long\", \"short\", \"very long\", \"long\", \"long\", \"short\", \"long\", \"long\", \"long\", \"short\", \"long\", \"long\", \"long\", \"long\", \"long\", \"long\", \"short\"])\n",
    "test_discretization(dfIris.values[:,1], [2.8, 3.6], [\"short\", \"medium\", \"long\"], [\"medium\", \"medium\", \"medium\", \"medium\", \"medium\", \"long\", \"medium\", \"medium\", \"medium\", \"medium\", \"long\", \"medium\", \"medium\", \"medium\", \"long\", \"long\", \"long\", \"medium\", \"long\", \"long\", \"medium\", \"long\", \"medium\", \"medium\", \"medium\", \"medium\", \"medium\", \"medium\", \"medium\", \"medium\", \"medium\", \"medium\", \"long\", \"long\", \"medium\", \"medium\", \"medium\", \"medium\", \"medium\", \"medium\", \"medium\", \"short\", \"medium\", \"medium\", \"long\", \"medium\", \"long\", \"medium\", \"long\", \"medium\", \"medium\", \"medium\", \"medium\", \"short\", \"short\", \"short\", \"medium\", \"short\", \"medium\", \"short\", \"short\", \"medium\", \"short\", \"medium\", \"medium\", \"medium\", \"medium\", \"short\", \"short\", \"short\", \"medium\", \"short\", \"short\", \"short\", \"medium\", \"medium\", \"short\", \"medium\", \"medium\", \"short\", \"short\", \"short\", \"short\", \"short\", \"medium\", \"medium\", \"medium\", \"short\", \"medium\", \"short\", \"short\", \"medium\", \"short\", \"short\", \"short\", \"medium\", \"medium\", \"medium\", \"short\", \"short\", \"medium\", \"short\", \"medium\", \"medium\", \"medium\", \"medium\", \"short\", \"medium\", \"short\", \"medium\", \"medium\", \"short\", \"medium\", \"short\", \"short\", \"medium\", \"medium\", \"long\", \"short\", \"short\", \"medium\", \"short\", \"short\", \"short\", \"medium\", \"medium\", \"short\", \"medium\", \"short\", \"medium\", \"short\", \"long\", \"short\", \"short\", \"short\", \"medium\", \"medium\", \"medium\", \"medium\", \"medium\", \"medium\", \"medium\", \"short\", \"medium\", \"medium\", \"medium\", \"short\", \"medium\", \"medium\", \"medium\"])\n",
    "test_equal_length_discretization(dfIrisTest.values[:,0], 4, np.array([\"c0\", \"c0\", \"c0\", \"c0\", \"c0\", \"c1\", \"c0\", \"c0\", \"c0\", \"c0\", \"c1\", \"c0\", \"c0\", \"c0\", \"c1\", \"c1\", \"c1\", \"c0\", \"c1\", \"c0\", \"c1\", \"c0\", \"c0\", \"c0\", \"c0\", \"c0\", \"c0\", \"c0\", \"c0\", \"c0\", \"c0\", \"c1\", \"c0\", \"c1\", \"c0\", \"c0\", \"c1\", \"c0\", \"c0\", \"c0\", \"c0\", \"c0\", \"c0\", \"c0\", \"c0\", \"c0\", \"c0\", \"c0\", \"c1\", \"c0\", \"c2\", \"c2\", \"c2\", \"c1\", \"c2\", \"c1\", \"c2\", \"c0\", \"c2\", \"c0\", \"c0\", \"c1\", \"c1\", \"c1\", \"c1\", \"c2\", \"c1\", \"c1\", \"c2\", \"c1\", \"c1\", \"c1\", \"c2\", \"c1\", \"c2\", \"c2\", \"c2\", \"c2\", \"c1\", \"c1\", \"c1\", \"c1\", \"c1\", \"c1\", \"c1\", \"c1\", \"c2\", \"c2\", \"c1\", \"c1\", \"c1\", \"c1\", \"c1\", \"c0\", \"c1\", \"c1\", \"c1\", \"c2\", \"c0\", \"c1\", \"c2\", \"c1\", \"c3\", \"c2\", \"c2\", \"c3\", \"c0\", \"c3\", \"c2\", \"c3\", \"c2\", \"c2\", \"c2\", \"c1\", \"c1\", \"c2\", \"c2\", \"c3\", \"c3\", \"c1\", \"c2\", \"c1\", \"c3\", \"c2\", \"c2\", \"c3\", \"c2\", \"c1\", \"c2\", \"c3\", \"c3\", \"c3\", \"c2\", \"c2\", \"c1\", \"c3\", \"c2\", \"c2\", \"c1\", \"c2\", \"c2\", \"c2\", \"c1\", \"c2\", \"c2\", \"c2\", \"c2\", \"c2\", \"c2\", \"c1\"]))\n",
    "test_equal_count_discretization(dfIrisTest.values[:,0], 4, np.array([\"c0\", \"c0\", \"c0\", \"c0\", \"c0\", \"c1\", \"c0\", \"c0\", \"c0\", \"c0\", \"c1\", \"c0\", \"c0\", \"c0\", \"c1\", \"c1\", \"c1\", \"c0\", \"c1\", \"c0\", \"c1\", \"c0\", \"c0\", \"c0\", \"c0\", \"c0\", \"c0\", \"c1\", \"c1\", \"c0\", \"c0\", \"c1\", \"c1\", \"c1\", \"c0\", \"c0\", \"c1\", \"c0\", \"c0\", \"c0\", \"c0\", \"c0\", \"c0\", \"c0\", \"c0\", \"c0\", \"c0\", \"c0\", \"c1\", \"c0\", \"c3\", \"c2\", \"c3\", \"c1\", \"c3\", \"c1\", \"c2\", \"c0\", \"c3\", \"c1\", \"c0\", \"c2\", \"c2\", \"c2\", \"c1\", \"c3\", \"c1\", \"c1\", \"c2\", \"c1\", \"c2\", \"c2\", \"c2\", \"c2\", \"c2\", \"c3\", \"c3\", \"c3\", \"c2\", \"c1\", \"c1\", \"c1\", \"c1\", \"c2\", \"c1\", \"c2\", \"c3\", \"c2\", \"c1\", \"c1\", \"c1\", \"c2\", \"c1\", \"c0\", \"c1\", \"c1\", \"c1\", \"c2\", \"c0\", \"c1\", \"c2\", \"c1\", \"c3\", \"c2\", \"c3\", \"c3\", \"c0\", \"c3\", \"c3\", \"c3\", \"c3\", \"c2\", \"c3\", \"c1\", \"c1\", \"c2\", \"c3\", \"c3\", \"c3\", \"c2\", \"c3\", \"c1\", \"c3\", \"c2\", \"c3\", \"c3\", \"c2\", \"c2\", \"c2\", \"c3\", \"c3\", \"c3\", \"c2\", \"c2\", \"c2\", \"c3\", \"c2\", \"c2\", \"c2\", \"c3\", \"c3\", \"c3\", \"c1\", \"c3\", \"c3\", \"c3\", \"c2\", \"c3\", \"c2\", \"c2\"]))"
   ]
  }
 ],
 "metadata": {
  "kernelspec": {
   "display_name": "Python 3.10.5 64-bit",
   "language": "python",
   "name": "python3"
  },
  "language_info": {
   "codemirror_mode": {
    "name": "ipython",
    "version": 3
   },
   "file_extension": ".py",
   "mimetype": "text/x-python",
   "name": "python",
   "nbconvert_exporter": "python",
   "pygments_lexer": "ipython3",
   "version": "3.10.5"
  },
  "vscode": {
   "interpreter": {
    "hash": "56d6b7505314121711e9f0b42f9bc62740a6380b1f361bd988b93b9c1b16c56f"
   }
  }
 },
 "nbformat": 4,
 "nbformat_minor": 2
}
