{
 "cells": [
  {
   "cell_type": "markdown",
   "metadata": {},
   "source": [
    "# Business Inteligence Sheet 1\n",
    "\n",
    "### Juan David Camacho\n",
    "### Hernán Russi\n",
    "### Juan Esteban Daza  \n",
    "\n",
    "### Exercise 1 \n",
    "(1 Point) Create an example (figure with explanation) that shows how K-Means\n",
    "will update a clustering C in such a way that one cluster becomes empty even though it had\n",
    "at least one point in C.\n",
    "Hint: Use a case with two attributes (it’s not possible with one attribute).\n"
   ]
  },
  {
   "cell_type": "markdown",
   "metadata": {},
   "source": []
  },
  {
   "cell_type": "markdown",
   "metadata": {},
   "source": [
    "### Exercise 2 (4 Points)\n",
    "1. Write a function kMeans(A, k, eps, mu = None) that runs the kMeans algorithm on\n",
    "a given 2D-numpy array A with k clusters and termination criterion eps. If no initial\n",
    "centroids mu are given, use random points in the range of the dataset. Make sure that\n",
    "new (random) cendroids are created for clusters that become empty.\n",
    "Let the function return a pair C, mu where C is a list that defines for each instance in\n",
    "D its cluster (number). mu should be a list of k elements, containing the means of the\n",
    "respective clusters."
   ]
  },
  {
   "cell_type": "code",
   "execution_count": 38,
   "metadata": {},
   "outputs": [
    {
     "data": {
      "image/png": "[encoded data removed]",
      "text/plain": [
       "<Figure size 432x288 with 1 Axes>"
      ]
     },
     "metadata": {
      "needs_background": "light"
     },
     "output_type": "display_data"
    }
   ],
   "source": [
    "import pandas as pd\n",
    "from matplotlib import pyplot as plt\n",
    "import numpy as np\n",
    "import math\n",
    "import random\n",
    "from scipy.spatial.distance import cdist\n",
    "\n",
    "Iris_pca = pd.read_csv(\"iris_pca.csv\")\n",
    "plt.scatter(Iris_pca.X1, Iris_pca.X2)\n",
    "\n",
    "iris_numpy = Iris_pca.to_numpy()"
   ]
  },
  {
   "cell_type": "code",
   "execution_count": 43,
   "metadata": {},
   "outputs": [
    {
     "name": "stdout",
     "output_type": "stream",
     "text": [
      "1.948597333195005\n",
      "0.6552499526011198\n"
     ]
    }
   ],
   "source": [
    "print(math.dist((-0.7514671406482273, 0.0785191864293572), (-2.6842071251039497,0.32660731476438853)))\n",
    "print(math.dist((-2.2088329541767044, -0.1243604202222778), (-2.6842071251039497,0.32660731476438853)))"
   ]
  },
  {
   "cell_type": "code",
   "execution_count": 120,
   "metadata": {},
   "outputs": [],
   "source": [
    "\n",
    "def kMeans(A, k, eps, mu=None):\n",
    "    centroids = []\n",
    "    if mu is None:\n",
    "        centroids = [[random.choice(A[:, 0]), random.choice(A[:, 1])]\n",
    "                     for x in range(k)]\n",
    "    else:\n",
    "        centroids = mu\n",
    "\n",
    "    dist = cdist(A, centroids, 'euclidean')\n",
    "    c = np.array([np.argmin(i) for i in dist])\n",
    "\n",
    "    # for i in range(k):\n",
    "    #     for j in range(len(A[:, 0])):\n",
    "    #         if i == c[j]:\n",
    "    #             #print('C' + str(i) + ' = ' +  str(A[j]))\n",
    "\n",
    "    while True:\n",
    "        total = 0\n",
    "        old_centroids = centroids\n",
    "        centroids = []\n",
    "        for kID in range(k):\n",
    "            new_cent = A[c == kID].mean(axis=0)\n",
    "            centroids.append(new_cent)\n",
    "        dist = cdist(A, centroids, 'euclidean')\n",
    "        c = np.array([np.argmin(i) for i in dist])\n",
    "        for s in range(k):\n",
    "            total += (centroids[s] - old_centroids[s])**2\n",
    "        if (total[0] <= eps and total[1] <= eps):\n",
    "            break\n",
    "    \n",
    "    return c, centroids\n"
   ]
  }
 ],
 "metadata": {
  "kernelspec": {
   "display_name": "Python 3.10.5 64-bit",
   "language": "python",
   "name": "python3"
  },
  "language_info": {
   "codemirror_mode": {
    "name": "ipython",
    "version": 3
   },
   "file_extension": ".py",
   "mimetype": "text/x-python",
   "name": "python",
   "nbconvert_exporter": "python",
   "pygments_lexer": "ipython3",
   "version": "3.10.5"
  },
  "orig_nbformat": 4,
  "vscode": {
   "interpreter": {
    "hash": "56d6b7505314121711e9f0b42f9bc62740a6380b1f361bd988b93b9c1b16c56f"
   }
  }
 },
 "nbformat": 4,
 "nbformat_minor": 2
}
